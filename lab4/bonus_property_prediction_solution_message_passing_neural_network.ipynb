{
  "nbformat": 4,
  "nbformat_minor": 0,
  "metadata": {
    "colab": {
      "name": "message_passing_neural_network_tutorial.ipynb",
      "provenance": [],
      "private_outputs": true,
      "collapsed_sections": [],
      "toc_visible": true,
      "include_colab_link": true
    },
    "kernelspec": {
      "name": "python3",
      "display_name": "Python 3"
    },
    "accelerator": "GPU"
  },
  "cells": [
    {
      "cell_type": "markdown",
      "metadata": {
        "id": "view-in-github",
        "colab_type": "text"
      },
      "source": [
        "<a href=\"https://colab.research.google.com/github/yala/deeplearning_bootcamp/blob/master/lab4/bonus_property_prediction_solution_message_passing_neural_network.ipynb\" target=\"_parent\"><img src=\"https://colab.research.google.com/assets/colab-badge.svg\" alt=\"Open In Colab\"/></a>"
      ]
    },
    {
      "cell_type": "markdown",
      "metadata": {
        "id": "ATT0ccpSf8jX",
        "colab_type": "text"
      },
      "source": [
        "# Introduction to Message Passing Neural Networks\n",
        "\n",
        "In this tutorial, we'll take you through developing a message passing neural network (MPNN), which is a type of neural network that operates on graphs. We'll then show you how to use an MPNN to predict the properties of molecules.\n",
        "\n",
        "Let's get started!"
      ]
    },
    {
      "cell_type": "markdown",
      "metadata": {
        "id": "HCb1W7fjT9lU",
        "colab_type": "text"
      },
      "source": [
        "# Preliminaries\n",
        "\n",
        "The next few sections will set up the necessary components of the tutorial, including:\n",
        "\n",
        "\n",
        "1.   Installing PyTorch and RDKit\n",
        "2.   Importing dependencies\n",
        "3.   Downloading and processing data\n",
        "4.   Defining training and evaluation procedures"
      ]
    },
    {
      "cell_type": "markdown",
      "metadata": {
        "id": "FmLOIb0yUDde",
        "colab_type": "text"
      },
      "source": [
        "## Download PyTorch"
      ]
    },
    {
      "cell_type": "code",
      "metadata": {
        "id": "kKI0tvjUshtv",
        "colab_type": "code",
        "colab": {}
      },
      "source": [
        "# http://pytorch.org/\n",
        "from os import path\n",
        "from wheel.pep425tags import get_abbr_impl, get_impl_ver, get_abi_tag\n",
        "platform = '{}{}-{}'.format(get_abbr_impl(), get_impl_ver(), get_abi_tag())\n",
        "\n",
        "accelerator = 'cu80' if path.exists('/opt/bin/nvidia-smi') else 'cpu'\n",
        "\n",
        "!pip install -q http://download.pytorch.org/whl/{accelerator}/torch-0.4.0-{platform}-linux_x86_64.whl torchvision==0.2.0\n",
        "import torch\n",
        "print(torch.__version__)\n",
        "print(torch.cuda.is_available())"
      ],
      "execution_count": 0,
      "outputs": []
    },
    {
      "cell_type": "markdown",
      "metadata": {
        "id": "GoenT_X0UIBQ",
        "colab_type": "text"
      },
      "source": [
        "## Download RDKit\n",
        "\n",
        "RDKit is a Python cheminformatics package which makes it easy to work with molecules."
      ]
    },
    {
      "cell_type": "code",
      "metadata": {
        "id": "2ElPPy3EUFUp",
        "colab_type": "code",
        "colab": {}
      },
      "source": [
        "!wget -c https://repo.anaconda.com/miniconda/Miniconda3-latest-Linux-x86_64.sh\n",
        "!chmod +x Miniconda3-latest-Linux-x86_64.sh\n",
        "!bash ./Miniconda3-latest-Linux-x86_64.sh -b -f -p /usr/local\n",
        "!conda install -q -y --prefix /usr/local -c conda-forge rdkit rdkit scikit-learn"
      ],
      "execution_count": 0,
      "outputs": []
    },
    {
      "cell_type": "markdown",
      "metadata": {
        "id": "2IUxgjYBUQ5h",
        "colab_type": "text"
      },
      "source": [
        "## Imports"
      ]
    },
    {
      "cell_type": "code",
      "metadata": {
        "id": "SCORNXxTsoPV",
        "colab_type": "code",
        "colab": {}
      },
      "source": [
        "import math\n",
        "import os\n",
        "import pickle\n",
        "import random\n",
        "import re\n",
        "import sys\n",
        "from typing import List, Tuple\n",
        "\n",
        "sys.path.append('/usr/local/lib/python3.7/site-packages/')\n",
        "\n",
        "import numpy as np\n",
        "from rdkit import Chem, DataStructs\n",
        "from rdkit.Chem import AllChem\n",
        "from sklearn.metrics import mean_squared_error\n",
        "import torch\n",
        "import torch.nn as nn\n",
        "import torch.nn.functional as F\n",
        "import torch.optim as optim\n",
        "from tqdm import trange"
      ],
      "execution_count": 0,
      "outputs": []
    },
    {
      "cell_type": "markdown",
      "metadata": {
        "id": "2xnwzbUmUTV2",
        "colab_type": "text"
      },
      "source": [
        "## Download and Process Data"
      ]
    },
    {
      "cell_type": "code",
      "metadata": {
        "id": "p9kauP9AUVFM",
        "colab_type": "code",
        "colab": {}
      },
      "source": [
        "# Download data\n",
        "!wget https://raw.githubusercontent.com/yala/introML_chem/master/lab1/data/chem/delaney_train.csv\n",
        "!wget https://raw.githubusercontent.com/yala/introML_chem/master/lab1/data/chem/delaney_val.csv\n",
        "!wget https://raw.githubusercontent.com/yala/introML_chem/master/lab1/data/chem/delaney_test.csv"
      ],
      "execution_count": 0,
      "outputs": []
    },
    {
      "cell_type": "code",
      "metadata": {
        "id": "pErlFbY6czTk",
        "colab_type": "code",
        "colab": {}
      },
      "source": [
        "# Define Datapoint and Dataset classes\n",
        "class MoleculeDatapoint:\n",
        "  def __init__(self, smiles: str, targets: List[float]):\n",
        "    self.smiles = smiles\n",
        "    self.targets = targets\n",
        "    \n",
        "  def __str__(self):\n",
        "    return f'{self.smiles},' + ','.join(str(target) for target in self.targets)\n",
        "    \n",
        "class MoleculeDataset:\n",
        "  def __init__(self, data: List[MoleculeDatapoint]):\n",
        "    self.data = data\n",
        "    \n",
        "  def smiles(self) -> List[str]:\n",
        "    return [d.smiles for d in self.data]\n",
        "  \n",
        "  def targets(self) -> List[float]:\n",
        "    return [d.targets for d in self.data]\n",
        "  \n",
        "  def shuffle(self, seed: int = None):\n",
        "    if seed is not None:\n",
        "      random.seed(seed)\n",
        "    random.shuffle(self.data)\n",
        "  \n",
        "  def __len__(self) -> int:\n",
        "    return len(self.data)\n",
        "  \n",
        "  def __getitem__(self, item) -> MoleculeDatapoint:\n",
        "    return self.data[item]\n",
        "  \n",
        "def get_data(split: str) -> MoleculeDataset:\n",
        "  data_path = 'delaney_{}.csv'.format(split)\n",
        "  with open(data_path) as f:\n",
        "    f.readline()\n",
        "    data = []\n",
        "    for line in f:\n",
        "      line = line.strip().split(',')\n",
        "      smiles, targets = line[0], line[1:]\n",
        "      targets = [float(target) for target in targets]\n",
        "      data.append(MoleculeDatapoint(smiles, targets))\n",
        "      \n",
        "  return MoleculeDataset(data)"
      ],
      "execution_count": 0,
      "outputs": []
    },
    {
      "cell_type": "code",
      "metadata": {
        "id": "2PAbMy3vczcJ",
        "colab_type": "code",
        "colab": {}
      },
      "source": [
        "# Load data\n",
        "train_data, val_data, test_data = get_data('train'), get_data('val'), get_data('test')\n",
        "\n",
        "print(f'Num train = {len(train_data):,}')\n",
        "print(f'Num val = {len(val_data):,}')\n",
        "print(f'Num test = {len(test_data):,}')\n",
        "print()\n",
        "print('Example data point')\n",
        "print(train_data[0])"
      ],
      "execution_count": 0,
      "outputs": []
    },
    {
      "cell_type": "markdown",
      "metadata": {
        "id": "oa0jj1PdW0vW",
        "colab_type": "text"
      },
      "source": [
        "## Model and Training Settings"
      ]
    },
    {
      "cell_type": "code",
      "metadata": {
        "id": "DimjlKdLW2CV",
        "colab_type": "code",
        "colab": {}
      },
      "source": [
        "batch_size = 50\n",
        "num_epochs = 10\n",
        "lr = 1e-3\n",
        "weight_decay = 1e-4\n",
        "hidden_size = 300\n",
        "depth = 3\n",
        "output_size = 1  # do not modify\n",
        "dropout = 0.0"
      ],
      "execution_count": 0,
      "outputs": []
    },
    {
      "cell_type": "markdown",
      "metadata": {
        "id": "sfaS5N9_WOZ0",
        "colab_type": "text"
      },
      "source": [
        "## Utility Functions"
      ]
    },
    {
      "cell_type": "code",
      "metadata": {
        "id": "DyIvleuAWPSx",
        "colab_type": "code",
        "colab": {}
      },
      "source": [
        "def rmse(targets: List[float], preds: List[float]) -> float:\n",
        "    return math.sqrt(mean_squared_error(targets, preds))\n",
        "  \n",
        "def param_count(model: nn.Module) -> int:\n",
        "    return sum(param.numel() for param in model.parameters() if param.requires_grad)"
      ],
      "execution_count": 0,
      "outputs": []
    },
    {
      "cell_type": "markdown",
      "metadata": {
        "id": "KBJzFolZVcTA",
        "colab_type": "text"
      },
      "source": [
        "## Training Procedure"
      ]
    },
    {
      "cell_type": "code",
      "metadata": {
        "id": "ErLF5Q66VdUj",
        "colab_type": "code",
        "colab": {}
      },
      "source": [
        "def train_epoch(model: nn.Module,\n",
        "                optimizer: optim.Optimizer,\n",
        "                data: MoleculeDataset,\n",
        "                batch_size: int,\n",
        "                epoch: int) -> float:\n",
        "  model.train()\n",
        "  data.shuffle(seed=epoch)\n",
        "  \n",
        "  total_loss = 0\n",
        "  num_batches = 0\n",
        "  \n",
        "  data_size = len(data) // batch_size * batch_size  # drop final, incomplete batch\n",
        "  \n",
        "  for i in trange(0, data_size, batch_size):\n",
        "    # 1) get batch\n",
        "    batch = MoleculeDataset(data[i:i + batch_size])\n",
        "    \n",
        "    # Convert SMILES strings to molecular graphs\n",
        "    mol_graph, targets = mol2graph(batch.smiles()), batch.targets()\n",
        "    \n",
        "    # Cast targets to FloatTenso\n",
        "    targets = torch.FloatTensor(targets)\n",
        "    \n",
        "    # Reset gradient data to 0\n",
        "    optimizer.zero_grad()\n",
        "    \n",
        "    # Get prediction for batch\n",
        "    preds = model(mol_graph)\n",
        "    \n",
        "    # 2) Compute loss\n",
        "    loss = F.mse_loss(preds, targets)\n",
        "    \n",
        "    # 3) Do backprop\n",
        "    loss.backward()\n",
        "    \n",
        "    # 4) Update model\n",
        "    optimizer.step()\n",
        "    \n",
        "    # Do book-keeping to track loss\n",
        "    total_loss += math.sqrt(loss.item())\n",
        "    num_batches += 1\n",
        "    \n",
        "  avg_loss = total_loss / num_batches\n",
        "  \n",
        "  return avg_loss"
      ],
      "execution_count": 0,
      "outputs": []
    },
    {
      "cell_type": "markdown",
      "metadata": {
        "id": "kZ4TkudKWBUD",
        "colab_type": "text"
      },
      "source": [
        "## Evaluation Procedure"
      ]
    },
    {
      "cell_type": "code",
      "metadata": {
        "id": "q1TXXxI8WDp8",
        "colab_type": "code",
        "colab": {}
      },
      "source": [
        "def evaluate(model: nn.Module, data: MoleculeDataset, batch_size: int) -> float:\n",
        "    model.eval()\n",
        "    \n",
        "    all_preds = []\n",
        "    with torch.no_grad():\n",
        "      for i in range(0, len(data), batch_size):\n",
        "        batch = MoleculeDataset(data[i:i + batch_size])\n",
        "        mol_graph = mol2graph(batch.smiles())\n",
        "                \n",
        "        preds = model(mol_graph)\n",
        "        all_preds.extend(preds)\n",
        "    \n",
        "    return rmse(data.targets(), all_preds)"
      ],
      "execution_count": 0,
      "outputs": []
    },
    {
      "cell_type": "markdown",
      "metadata": {
        "id": "RvOF6fziW-Lk",
        "colab_type": "text"
      },
      "source": [
        "# Message Passing Neural Networks (MPNNs)\n",
        "\n",
        "Message passing neural networks (MPNNs) are neural networks that are defined to operate on graph input. This makes them ideal for working with molecules, which can be represented as a graph where atoms are nodes and bonds are edges.\n",
        "\n",
        "<img src=\"https://github.com/yala/introML_chem/raw/master/lab4/message_passing.png\">\n",
        "\n",
        "MPNNs work in two phases: a *message passing phase* and a *readout phase*.\n",
        "\n",
        "**Message Passing Phase**\n",
        "\n",
        "During the message passing phase, each bond's representation (or \"message\") is updated based on the output of a neural network applied to the sum of the neighboring bond's representations. This process is repeated a number of times, causing information to flow across the graph and allowing each bond to become aware of the surrounding bonds and its local chemistry.\n",
        "\n",
        "<img src=\"https://github.com/yala/introML_chem/raw/master/lab4/bond_message_passing.png\">\n",
        "\n",
        "**Readout Phase**\n",
        "\n",
        "During the readout phase, the final bond representations are combined to produce a single representation for the entire molecule. This molecular representation is then passed through a feed-forward neural network to make the final property prediction."
      ]
    },
    {
      "cell_type": "markdown",
      "metadata": {
        "id": "YzN6srBNW_y3",
        "colab_type": "text"
      },
      "source": [
        "## Molecular Featurization"
      ]
    },
    {
      "cell_type": "markdown",
      "metadata": {
        "id": "jjn083ueeSwA",
        "colab_type": "text"
      },
      "source": [
        "In order to run an MPNN on a molecule, we first need to featurize the individual atoms and bonds. The code below loops through each atom and bond and extracts features such as atomic number or bond type.\n",
        "\n",
        "Then, it collects all the atom and bond features and combines them into PyTorch tensors. The features for different molecules are then concatenated to create a tensor with a batch of atom and bond features across multiple molecules"
      ]
    },
    {
      "cell_type": "code",
      "metadata": {
        "id": "UW4VtDlln5Zo",
        "colab_type": "code",
        "colab": {}
      },
      "source": [
        "# Define enumerations of possible features\n",
        "ELEM_LIST = range(100)\n",
        "HYBRID_LIST = [\n",
        "    Chem.rdchem.HybridizationType.SP, Chem.rdchem.HybridizationType.SP2,\n",
        "    Chem.rdchem.HybridizationType.SP3, Chem.rdchem.HybridizationType.SP3D,\n",
        "    Chem.rdchem.HybridizationType.SP3D2\n",
        "]\n",
        "ATOM_FDIM = 100 + len(HYBRID_LIST) + 6 + 5 + 4 + 7 + 5 + 3 + 1\n",
        "BOND_FDIM = 6 + 6\n",
        "MAX_NB = 12\n",
        "\n",
        "# Creates a one-hot vector with an extra element for uncommon features\n",
        "def onek_encoding_unk(x: int, allowable_set: List[int]):\n",
        "    if x not in allowable_set:\n",
        "        x = allowable_set[-1]\n",
        "    return list(map(lambda s: x == s, allowable_set))\n",
        "\n",
        "# Creates a feature vector for an atom\n",
        "def atom_features(atom: Chem.rdchem.Atom) -> torch.Tensor:\n",
        "    return torch.Tensor(\n",
        "        onek_encoding_unk(atom.GetAtomicNum() - 1, ELEM_LIST)\n",
        "        + onek_encoding_unk(atom.GetDegree(), [0,1,2,3,4,5]) \n",
        "        + onek_encoding_unk(atom.GetFormalCharge(), [-1,-2,1,2,0])\n",
        "        + onek_encoding_unk(int(atom.GetChiralTag()), [0,1,2,3])\n",
        "        + onek_encoding_unk(int(atom.GetImplicitValence()), [0,1,2,3,4,5,6])\n",
        "        + onek_encoding_unk(int(atom.GetTotalNumHs()), [0,1,2,3,4])\n",
        "        + onek_encoding_unk(int(atom.GetHybridization()), HYBRID_LIST)\n",
        "        + onek_encoding_unk(int(atom.GetNumRadicalElectrons()), [0,1,2])\n",
        "        + [atom.GetIsAromatic()]\n",
        "    )\n",
        "\n",
        "# Creates a feature vector for a bond\n",
        "def bond_features(bond: Chem.rdchem.Bond) -> torch.Tensor:\n",
        "    bt = bond.GetBondType()\n",
        "    stereo = int(bond.GetStereo())\n",
        "    fbond = [\n",
        "        bt == Chem.rdchem.BondType.SINGLE,\n",
        "        bt == Chem.rdchem.BondType.DOUBLE,\n",
        "        bt == Chem.rdchem.BondType.TRIPLE,\n",
        "        bt == Chem.rdchem.BondType.AROMATIC,\n",
        "        bond.GetIsConjugated(),\n",
        "        bond.IsInRing()\n",
        "    ]\n",
        "    fstereo = onek_encoding_unk(stereo, [0,1,2,3,4,5])\n",
        "    return torch.Tensor(fbond + fstereo)\n",
        "\n",
        "# Creates feature vectors and adjacency matrices for a batch of molecules\n",
        "def mol2graph(mol_batch: List[str]) -> Tuple[torch.Tensor, torch.Tensor, torch.Tensor, torch.Tensor, List[Tuple[int, int]]]:\n",
        "    padding = torch.zeros(ATOM_FDIM + BOND_FDIM)\n",
        "    fatoms,fbonds = [],[padding]  # Ensure bond is 1-indexed\n",
        "    in_bonds,all_bonds = [],[(-1,-1)]  # Ensure bond is 1-indexed\n",
        "    scope = []\n",
        "    total_atoms = 0\n",
        "\n",
        "    for smiles in mol_batch:\n",
        "        mol = Chem.MolFromSmiles(smiles)\n",
        "        n_atoms = mol.GetNumAtoms()\n",
        "        for atom in mol.GetAtoms():\n",
        "            fatoms.append( atom_features(atom) )\n",
        "            in_bonds.append([])\n",
        "\n",
        "        for bond in mol.GetBonds():\n",
        "            a1 = bond.GetBeginAtom()\n",
        "            a2 = bond.GetEndAtom()\n",
        "            x = a1.GetIdx() + total_atoms\n",
        "            y = a2.GetIdx() + total_atoms\n",
        "\n",
        "            b = len(all_bonds) \n",
        "            all_bonds.append((x,y))\n",
        "            fbonds.append( torch.cat([fatoms[x], bond_features(bond)], 0) )\n",
        "            in_bonds[y].append(b)\n",
        "\n",
        "            b = len(all_bonds)\n",
        "            all_bonds.append((y,x))\n",
        "            fbonds.append( torch.cat([fatoms[y], bond_features(bond)], 0) )\n",
        "            in_bonds[x].append(b)\n",
        "\n",
        "        scope.append((total_atoms,n_atoms))\n",
        "        total_atoms += n_atoms\n",
        "\n",
        "    total_bonds = len(all_bonds)\n",
        "    fatoms = torch.stack(fatoms, 0)\n",
        "    fbonds = torch.stack(fbonds, 0)\n",
        "    agraph = torch.zeros(total_atoms,MAX_NB).long()\n",
        "    bgraph = torch.zeros(total_bonds,MAX_NB).long()\n",
        "\n",
        "    for a in range(total_atoms):\n",
        "        for i,b in enumerate(in_bonds[a]):\n",
        "            agraph[a,i] = b\n",
        "\n",
        "    for b1 in range(1, total_bonds):\n",
        "        x,y = all_bonds[b1]\n",
        "        for i,b2 in enumerate(in_bonds[x]):\n",
        "            if all_bonds[b2][0] != y:\n",
        "                bgraph[b1,i] = b2\n",
        "\n",
        "    return fatoms, fbonds, agraph, bgraph, scope"
      ],
      "execution_count": 0,
      "outputs": []
    },
    {
      "cell_type": "markdown",
      "metadata": {
        "id": "Yr-kCbcUXDga",
        "colab_type": "text"
      },
      "source": [
        "## Define MPNN"
      ]
    },
    {
      "cell_type": "code",
      "metadata": {
        "id": "iP1322zGSXOs",
        "colab_type": "code",
        "colab": {}
      },
      "source": [
        "class MPNN(nn.Module):\n",
        "  def __init__(self, hidden_size, depth, output_size, dropout):\n",
        "    super(MPNN, self).__init__()\n",
        "    self.depth = depth\n",
        "    \n",
        "    # Initial embedding of bond features\n",
        "    self.W_i = nn.Linear(ATOM_FDIM + BOND_FDIM, hidden_size, bias=False)\n",
        "    \n",
        "    # Linear layer used during message passing on neighboring bonds\n",
        "    self.W_h = nn.Linear(hidden_size, hidden_size, bias=False)\n",
        "    \n",
        "    # Output linear layer during beginning of readout phase\n",
        "    self.W_o = nn.Linear(ATOM_FDIM + hidden_size, hidden_size)\n",
        "    \n",
        "    # Final prediction linear layer\n",
        "    self.W_pred = nn.Linear(hidden_size, output_size)\n",
        "    \n",
        "    # Activation\n",
        "    self.relu = nn.ReLU()\n",
        "    \n",
        "    # Dropout\n",
        "    self.dropout = nn.Dropout(dropout)\n",
        "    \n",
        "  # Selects indices from a PyTorch Tensor\n",
        "  def index_select_ND(self, source: torch.Tensor, dim: int, index: torch.Tensor):\n",
        "      index_size = index.size()\n",
        "      suffix_dim = source.size()[1:]\n",
        "      final_size = index_size + suffix_dim\n",
        "      target = source.index_select(dim, index.view(-1))\n",
        "      target = target.view(final_size)\n",
        "      return target\n",
        "    \n",
        "  def forward(self, mol_graph) -> torch.FloatTensor:\n",
        "    # Extract components of molecular graph\n",
        "    fatoms,fbonds,agraph,bgraph,scope = mol_graph\n",
        "\n",
        "    # Embed the bond features\n",
        "    binput = self.W_i(fbonds)\n",
        "    message = self.relu(binput)\n",
        "\n",
        "    # --- Message passing phase ---\n",
        "    \n",
        "    # Loop through number of message passing steps\n",
        "    for i in range(self.depth - 1):\n",
        "        # Select messages from bonds that neighbor each bond\n",
        "        nei_message = self.index_select_ND(message, 0, bgraph)\n",
        "        \n",
        "        # Sum messages from neighboring bonds\n",
        "        nei_message = nei_message.sum(dim=1)\n",
        "        \n",
        "        # Apply linear layer to the sum\n",
        "        nei_message = self.W_h(nei_message)\n",
        "        \n",
        "        # Apply relu to initial bond featurization + neighboring messages\n",
        "        message = self.relu(binput + nei_message)\n",
        "        \n",
        "        # Apply dropout\n",
        "        message = self.dropout(message)\n",
        "\n",
        "    # --- Readout phase ---\n",
        "    \n",
        "    # Select messages from bonds that neighbor each atom\n",
        "    nei_message = self.index_select_ND(message, 0, agraph)\n",
        "    \n",
        "    # Sum messages from neighboring bonds\n",
        "    nei_message = nei_message.sum(dim=1)\n",
        "    \n",
        "    # Concatenate atom featurization with sum of bond featurizations\n",
        "    ainput = torch.cat([fatoms, nei_message], dim=1)\n",
        "    \n",
        "    # Apply linear layer\n",
        "    atom_hiddens = self.relu(self.W_o(ainput))\n",
        "    \n",
        "    # Apply dropout\n",
        "    atom_hiddens = self.dropout(atom_hiddens)\n",
        "\n",
        "    # Separate out each graph in the batch and sum atom vectors\n",
        "    mol_vecs = []\n",
        "    for st,le in scope:\n",
        "        mol_vec = atom_hiddens.narrow(0, st, le).sum(dim=0) / le\n",
        "        mol_vecs.append(mol_vec)\n",
        "\n",
        "    # Stack molecule vectors into one tensor\n",
        "    mol_vecs = torch.stack(mol_vecs, dim=0)\n",
        "    \n",
        "    # Apply output linear layer\n",
        "    mol_vecs = self.W_pred(mol_vecs)\n",
        "    \n",
        "    return mol_vecs"
      ],
      "execution_count": 0,
      "outputs": []
    },
    {
      "cell_type": "markdown",
      "metadata": {
        "id": "D_uuPQe2Wmyu",
        "colab_type": "text"
      },
      "source": [
        "## Build MPNN"
      ]
    },
    {
      "cell_type": "code",
      "metadata": {
        "id": "QR4mTHN-h9jX",
        "colab_type": "code",
        "colab": {}
      },
      "source": [
        "model = MPNN(hidden_size, depth, output_size, dropout)\n",
        "\n",
        "print(model)\n",
        "print(f'Number of parameters = {param_count(model):,}')\n",
        "\n",
        "optimizer = optim.Adam(model.parameters(), lr=lr, weight_decay=weight_decay)"
      ],
      "execution_count": 0,
      "outputs": []
    },
    {
      "cell_type": "markdown",
      "metadata": {
        "id": "awHGUbKtWUqF",
        "colab_type": "text"
      },
      "source": [
        "## Train MPNN"
      ]
    },
    {
      "cell_type": "code",
      "metadata": {
        "id": "dQ0B_KmHfVuo",
        "colab_type": "code",
        "colab": {}
      },
      "source": [
        "for epoch in range(1, num_epochs + 1):\n",
        "  train_loss = train_epoch(model, optimizer, train_data, batch_size, epoch)\n",
        "  val_rmse = evaluate(model, val_data, batch_size)\n",
        "  print(f'Epoch {epoch}: Train loss = {train_loss:.4f}, Val rmse = {val_rmse:.4f}')"
      ],
      "execution_count": 0,
      "outputs": []
    },
    {
      "cell_type": "markdown",
      "metadata": {
        "id": "SEOSYaa0Wa-b",
        "colab_type": "text"
      },
      "source": [
        "## Test MPNN"
      ]
    },
    {
      "cell_type": "code",
      "metadata": {
        "id": "k8koU1XbXBVA",
        "colab_type": "code",
        "colab": {}
      },
      "source": [
        "test_rmse = evaluate(model, test_data, batch_size)\n",
        "print(f'Test rmse = {test_rmse:.4f}')"
      ],
      "execution_count": 0,
      "outputs": []
    }
  ]
}